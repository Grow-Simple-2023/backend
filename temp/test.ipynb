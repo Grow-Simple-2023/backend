{
 "cells": [
  {
   "cell_type": "code",
   "execution_count": 2,
   "metadata": {},
   "outputs": [],
   "source": [
    "import pandas as pd"
   ]
  },
  {
   "cell_type": "code",
   "execution_count": 5,
   "metadata": {},
   "outputs": [],
   "source": [
    "item_data_1 = pd.read_excel(\"../docs/bangalore_pickups.xlsx\").drop(columns=[\"Unnamed: 0\"])\n",
    "item_data_2 = pd.read_excel(\"../docs/bangalore_dispatch_address_finals.xlsx\")"
   ]
  },
  {
   "cell_type": "code",
   "execution_count": 6,
   "metadata": {},
   "outputs": [
    {
     "data": {
      "text/html": [
       "<div>\n",
       "<style scoped>\n",
       "    .dataframe tbody tr th:only-of-type {\n",
       "        vertical-align: middle;\n",
       "    }\n",
       "\n",
       "    .dataframe tbody tr th {\n",
       "        vertical-align: top;\n",
       "    }\n",
       "\n",
       "    .dataframe thead th {\n",
       "        text-align: right;\n",
       "    }\n",
       "</style>\n",
       "<table border=\"1\" class=\"dataframe\">\n",
       "  <thead>\n",
       "    <tr style=\"text-align: right;\">\n",
       "      <th></th>\n",
       "      <th>address</th>\n",
       "      <th>location</th>\n",
       "      <th>numbers</th>\n",
       "      <th>names</th>\n",
       "      <th>product_id</th>\n",
       "    </tr>\n",
       "  </thead>\n",
       "  <tbody>\n",
       "    <tr>\n",
       "      <th>0</th>\n",
       "      <td>1260, SY 35/4, SJR Tower's, 7th Phase, 24th Ma...</td>\n",
       "      <td>JP Nagar</td>\n",
       "      <td>38815310522</td>\n",
       "      <td>Deanna Wendt</td>\n",
       "      <td>SKU_46</td>\n",
       "    </tr>\n",
       "    <tr>\n",
       "      <th>1</th>\n",
       "      <td>1260, SY 35/4, SJR Tower's, 7th Phase, 24th Ma...</td>\n",
       "      <td>JP Nagar</td>\n",
       "      <td>40834506264</td>\n",
       "      <td>Leah West</td>\n",
       "      <td>SKU_8</td>\n",
       "    </tr>\n",
       "    <tr>\n",
       "      <th>2</th>\n",
       "      <td>1260, SY 35/4, SJR Towers, 24th Main Puttanhal...</td>\n",
       "      <td>JP Nagar</td>\n",
       "      <td>85574853958</td>\n",
       "      <td>Lisa Pitts</td>\n",
       "      <td>SKU_54</td>\n",
       "    </tr>\n",
       "    <tr>\n",
       "      <th>3</th>\n",
       "      <td>1260 SY 35/4 SJR Tower's, 24th Main Puttanhall...</td>\n",
       "      <td>JP Nagar</td>\n",
       "      <td>75730852176</td>\n",
       "      <td>Jonathan Nelson</td>\n",
       "      <td>SKU_103</td>\n",
       "    </tr>\n",
       "    <tr>\n",
       "      <th>4</th>\n",
       "      <td>915, 24th Main Road, 2nd Phase, Mayura Circle,...</td>\n",
       "      <td>JP Nagar</td>\n",
       "      <td>65256560203</td>\n",
       "      <td>David Finn</td>\n",
       "      <td>SKU_148</td>\n",
       "    </tr>\n",
       "  </tbody>\n",
       "</table>\n",
       "</div>"
      ],
      "text/plain": [
       "                                             address  location      numbers  \\\n",
       "0  1260, SY 35/4, SJR Tower's, 7th Phase, 24th Ma...  JP Nagar  38815310522   \n",
       "1  1260, SY 35/4, SJR Tower's, 7th Phase, 24th Ma...  JP Nagar  40834506264   \n",
       "2  1260, SY 35/4, SJR Towers, 24th Main Puttanhal...  JP Nagar  85574853958   \n",
       "3  1260 SY 35/4 SJR Tower's, 24th Main Puttanhall...  JP Nagar  75730852176   \n",
       "4  915, 24th Main Road, 2nd Phase, Mayura Circle,...  JP Nagar  65256560203   \n",
       "\n",
       "             names product_id  \n",
       "0     Deanna Wendt     SKU_46  \n",
       "1        Leah West      SKU_8  \n",
       "2       Lisa Pitts     SKU_54  \n",
       "3  Jonathan Nelson    SKU_103  \n",
       "4       David Finn    SKU_148  "
      ]
     },
     "execution_count": 6,
     "metadata": {},
     "output_type": "execute_result"
    }
   ],
   "source": [
    "item_data_1.head()"
   ]
  },
  {
   "cell_type": "code",
   "execution_count": 7,
   "metadata": {},
   "outputs": [
    {
     "data": {
      "text/html": [
       "<div>\n",
       "<style scoped>\n",
       "    .dataframe tbody tr th:only-of-type {\n",
       "        vertical-align: middle;\n",
       "    }\n",
       "\n",
       "    .dataframe tbody tr th {\n",
       "        vertical-align: top;\n",
       "    }\n",
       "\n",
       "    .dataframe thead th {\n",
       "        text-align: right;\n",
       "    }\n",
       "</style>\n",
       "<table border=\"1\" class=\"dataframe\">\n",
       "  <thead>\n",
       "    <tr style=\"text-align: right;\">\n",
       "      <th></th>\n",
       "      <th>address</th>\n",
       "      <th>location</th>\n",
       "      <th>AWB</th>\n",
       "      <th>names</th>\n",
       "      <th>product_id</th>\n",
       "    </tr>\n",
       "  </thead>\n",
       "  <tbody>\n",
       "    <tr>\n",
       "      <th>0</th>\n",
       "      <td>6, Shakambari Nagar, 1st stage, JP Nagar, Bang...</td>\n",
       "      <td>JP Nagar</td>\n",
       "      <td>62201852038</td>\n",
       "      <td>Vickie Ramos</td>\n",
       "      <td>SKU_144</td>\n",
       "    </tr>\n",
       "    <tr>\n",
       "      <th>1</th>\n",
       "      <td>1, 24th Main Rd, 1st Phase, Girinagar, KR Layo...</td>\n",
       "      <td>JP Nagar</td>\n",
       "      <td>73350066683</td>\n",
       "      <td>Jon Hall</td>\n",
       "      <td>SKU_31</td>\n",
       "    </tr>\n",
       "    <tr>\n",
       "      <th>2</th>\n",
       "      <td>954, 2nd Floor, 24th Main, 2nd Phase, Opposite...</td>\n",
       "      <td>JP Nagar</td>\n",
       "      <td>60104333056</td>\n",
       "      <td>Linda Kurland</td>\n",
       "      <td>SKU_113</td>\n",
       "    </tr>\n",
       "    <tr>\n",
       "      <th>3</th>\n",
       "      <td>1, 24th Main Rd, 1st Phase, Girinagar, KR Layo...</td>\n",
       "      <td>JP Nagar</td>\n",
       "      <td>49726345575</td>\n",
       "      <td>Cora Massart</td>\n",
       "      <td>SKU_23</td>\n",
       "    </tr>\n",
       "    <tr>\n",
       "      <th>4</th>\n",
       "      <td>67, 15th Cross, 6th B Main, JP Nagar, Bangalore</td>\n",
       "      <td>JP Nagar</td>\n",
       "      <td>33178947349</td>\n",
       "      <td>George Rivas</td>\n",
       "      <td>SKU_144</td>\n",
       "    </tr>\n",
       "  </tbody>\n",
       "</table>\n",
       "</div>"
      ],
      "text/plain": [
       "                                             address  location          AWB  \\\n",
       "0  6, Shakambari Nagar, 1st stage, JP Nagar, Bang...  JP Nagar  62201852038   \n",
       "1  1, 24th Main Rd, 1st Phase, Girinagar, KR Layo...  JP Nagar  73350066683   \n",
       "2  954, 2nd Floor, 24th Main, 2nd Phase, Opposite...  JP Nagar  60104333056   \n",
       "3  1, 24th Main Rd, 1st Phase, Girinagar, KR Layo...  JP Nagar  49726345575   \n",
       "4    67, 15th Cross, 6th B Main, JP Nagar, Bangalore  JP Nagar  33178947349   \n",
       "\n",
       "           names product_id  \n",
       "0   Vickie Ramos    SKU_144  \n",
       "1       Jon Hall     SKU_31  \n",
       "2  Linda Kurland    SKU_113  \n",
       "3   Cora Massart     SKU_23  \n",
       "4   George Rivas    SKU_144  "
      ]
     },
     "execution_count": 7,
     "metadata": {},
     "output_type": "execute_result"
    }
   ],
   "source": [
    "item_data_2.head()"
   ]
  },
  {
   "cell_type": "code",
   "execution_count": 8,
   "metadata": {},
   "outputs": [
    {
     "data": {
      "text/plain": [
       "{'lat': 12.88931, 'lng': 77.58437}"
      ]
     },
     "execution_count": 8,
     "metadata": {},
     "output_type": "execute_result"
    }
   ],
   "source": [
    "import requests\n",
    "from multiprocessing import Pool\n",
    "\n",
    "def address_to_lat_long(address):\n",
    "    api_key = \"NIEPeSHG2spTNTvrk8k718oegUxgCWnG\"\n",
    "    url = f\"http://www.mapquestapi.com/geocoding/v1/address?key={api_key}&location={address}\"\n",
    "    response = requests.get(url)\n",
    "    item_data = response.json()\n",
    "    return item_data[\"results\"][0][\"locations\"][0][\"latLng\"]\n",
    "\n",
    "\n",
    "address_list = item_data_1[\"address\"].tolist()\n",
    "\n",
    "address_to_lat_long(address_list[0])"
   ]
  },
  {
   "cell_type": "code",
   "execution_count": 10,
   "metadata": {},
   "outputs": [
    {
     "data": {
      "text/plain": [
       "242"
      ]
     },
     "execution_count": 10,
     "metadata": {},
     "output_type": "execute_result"
    }
   ],
   "source": [
    "addresses = item_data_1[\"address\"].tolist() + item_data_2[\"address\"].tolist()\n",
    "len(addresses)"
   ]
  },
  {
   "cell_type": "code",
   "execution_count": 11,
   "metadata": {},
   "outputs": [],
   "source": [
    "with open(\"addresses.txt\", \"w\") as f:\n",
    "    for address in addresses:\n",
    "        f.write(address + \"\\n\")"
   ]
  },
  {
   "cell_type": "code",
   "execution_count": 13,
   "metadata": {},
   "outputs": [],
   "source": [
    "import json\n",
    "from random import uniform\n",
    "lat_longs = []\n",
    "\n",
    "for i in range(len(addresses)):\n",
    "    lat_longs.append({\n",
    "        \"lat\": uniform(12, 13),\n",
    "        \"lng\": uniform(77, 78)\n",
    "    })\n",
    "    \n",
    "with open(\"lat_longs.json\", \"w\") as f:\n",
    "    json.dump(lat_longs, f, indent=4)"
   ]
  },
  {
   "cell_type": "code",
   "execution_count": null,
   "metadata": {},
   "outputs": [],
   "source": []
  },
  {
   "cell_type": "code",
   "execution_count": null,
   "metadata": {},
   "outputs": [],
   "source": []
  }
 ],
 "metadata": {
  "kernelspec": {
   "display_name": "Python 3",
   "language": "python",
   "name": "python3"
  },
  "language_info": {
   "codemirror_mode": {
    "name": "ipython",
    "version": 3
   },
   "file_extension": ".py",
   "mimetype": "text/x-python",
   "name": "python",
   "nbconvert_exporter": "python",
   "pygments_lexer": "ipython3",
   "version": "3.11.1"
  },
  "orig_nbformat": 4,
  "vscode": {
   "interpreter": {
    "hash": "52634da84371cba311ea128a5ea7cdc41ff074b781779e754b270ff9f8153cee"
   }
  }
 },
 "nbformat": 4,
 "nbformat_minor": 2
}
